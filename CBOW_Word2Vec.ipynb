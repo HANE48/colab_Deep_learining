{
  "nbformat": 4,
  "nbformat_minor": 0,
  "metadata": {
    "colab": {
      "provenance": [],
      "authorship_tag": "ABX9TyOs+34zoJnFGQyPCtxRGbJS",
      "include_colab_link": true
    },
    "kernelspec": {
      "name": "python3",
      "display_name": "Python 3"
    },
    "language_info": {
      "name": "python"
    }
  },
  "cells": [
    {
      "cell_type": "markdown",
      "metadata": {
        "id": "view-in-github",
        "colab_type": "text"
      },
      "source": [
        "<a href=\"https://colab.research.google.com/github/HANE48/colab_Deep_learining/blob/main/CBOW_Word2Vec.ipynb\" target=\"_parent\"><img src=\"https://colab.research.google.com/assets/colab-badge.svg\" alt=\"Open In Colab\"/></a>"
      ]
    },
    {
      "cell_type": "code",
      "execution_count": 8,
      "metadata": {
        "colab": {
          "base_uri": "https://localhost:8080/"
        },
        "id": "rAmsYpbcpBjF",
        "outputId": "defb6965-a8a8-4095-b692-a43f46da1e43"
      },
      "outputs": [
        {
          "output_type": "stream",
          "name": "stdout",
          "text": [
            "Epoch 100, Loss: 10.391829993565135\n",
            "Epoch 200, Loss: 10.368270623236645\n",
            "Epoch 300, Loss: 10.237436793741884\n",
            "Epoch 400, Loss: 9.565418124197057\n",
            "Epoch 500, Loss: 7.6244901280338295\n",
            "Epoch 600, Loss: 5.83534642630846\n",
            "Epoch 700, Loss: 4.888529836964724\n",
            "Epoch 800, Loss: 4.012892970178593\n",
            "Epoch 900, Loss: 2.8951604712494032\n",
            "Epoch 1000, Loss: 1.7700609416932707\n",
            "Epoch 1100, Loss: 1.0134933702582143\n",
            "Epoch 1200, Loss: 0.617358608948871\n",
            "Epoch 1300, Loss: 0.4129290930754703\n",
            "Epoch 1400, Loss: 0.29839472993764493\n",
            "Epoch 1500, Loss: 0.22831529606783246\n",
            "Enter a word to find similar words: apple\n",
            "Similar words: [('banana', 0.1415753048238943), ('monkey', 0.12103105772741465), ('orange', 0.10377409019781453), ('dog', -0.15435225487791943), ('fruit', -0.1774894948600577)]\n"
          ]
        }
      ],
      "source": [
        "import numpy as np\n",
        "\n",
        "def softmax(x):\n",
        "    e_x = np.exp(x - np.max(x))\n",
        "    return e_x / e_x.sum(axis=0)\n",
        "\n",
        "class CBOW:\n",
        "    def __init__(self, vocab_size, embedding_dim):\n",
        "        self.W1 = np.random.randn(embedding_dim, vocab_size) * 0.01\n",
        "        self.W2 = np.random.randn(vocab_size, embedding_dim) * 0.01\n",
        "        self.vocab_size = vocab_size\n",
        "        self.embedding_dim = embedding_dim\n",
        "\n",
        "    def forward(self, x):\n",
        "        h = np.dot(self.W1, x)\n",
        "        u = np.dot(self.W2, h)\n",
        "        y_pred = softmax(u)\n",
        "        return y_pred, h\n",
        "\n",
        "    def backward(self, x, y_true, h, y_pred, learning_rate):\n",
        "        dl_du = y_pred - y_true\n",
        "        dl_dw2 = np.outer(dl_du, h)\n",
        "        dl_dh = np.dot(self.W2.T, dl_du)\n",
        "        dl_dw1 = np.outer(dl_dh, x)\n",
        "\n",
        "        self.W1 -= learning_rate * dl_dw1\n",
        "        self.W2 -= learning_rate * dl_dw2\n",
        "\n",
        "    def train(self, data, word_to_index, context_size, epochs, learning_rate):\n",
        "        for epoch in range(epochs):\n",
        "            loss = 0\n",
        "            for context, target in data:\n",
        "                x = np.mean([self.word_to_one_hot(word_to_index[word]) for word in context], axis=0)\n",
        "                y_true = self.word_to_one_hot(word_to_index[target])\n",
        "                y_pred, h = self.forward(x)\n",
        "                self.backward(x, y_true, h, y_pred, learning_rate)\n",
        "                loss -= np.log(y_pred[word_to_index[target]])\n",
        "            if (epoch + 1) % 100 == 0:\n",
        "                print(f\"Epoch {epoch + 1}, Loss: {loss}\")\n",
        "\n",
        "    def word_to_one_hot(self, word_idx):\n",
        "        x = np.zeros(self.vocab_size)\n",
        "        x[word_idx] = 1\n",
        "        return x\n",
        "\n",
        "    def get_similar_words(self, word, word_to_index, index_to_word, top_n=5):\n",
        "        if word not in word_to_index:\n",
        "            return \"Word not found in dictionary.\"\n",
        "\n",
        "        # 단어의 임베딩 벡터를 가져옵니다.\n",
        "        word_idx = word_to_index[word]\n",
        "        word_vec = self.W1[:, word_idx]\n",
        "\n",
        "        # 모든 단어에 대해 코사인 유사도를 계산합니다.\n",
        "        word_sim = np.dot(self.W1.T, word_vec) / (np.linalg.norm(self.W1, axis=0) * np.linalg.norm(word_vec))\n",
        "\n",
        "        # 가장 유사한 단어의 인덱스를 가져옵니다.\n",
        "        similar_word_indices = np.argsort(-word_sim)[1:top_n+1]  # 자기 자신을 제외\n",
        "\n",
        "        # 유사한 단어와 그 유사도를 반환합니다.\n",
        "        similar_words = [(index_to_word[i], word_sim[i]) for i in similar_word_indices]\n",
        "        return similar_words\n",
        "\n",
        "# 코퍼스와 사전 처리\n",
        "corpus = [\"apple banana apple\", \"banana orange fruit\", \"orange banana apple\", \"dog cat animal\", \"cat monkey animal\"]\n",
        "words = set(\" \".join(corpus).split())\n",
        "word_to_index = {word: i for i, word in enumerate(words)}\n",
        "index_to_word = {i: word for word, i in word_to_index.items()}\n",
        "\n",
        "# 모델 초기화 및 학습\n",
        "vocab_size = len(word_to_index)\n",
        "embedding_dim = 10\n",
        "model = CBOW(vocab_size, embedding_dim)\n",
        "data = [([\"banana\", \"apple\"], \"apple\"), ([\"banana\", \"orange\"], \"fruit\"), ([\"orange\", \"apple\"], \"banana\"), ([\"dog\", \"animal\"], \"cat\"), ([\"cat\", \"animal\"], \"monkey\")]\n",
        "model.train(data, word_to_index, context_size=2, epochs=1500, learning_rate=0.01)\n",
        "\n",
        "# 단어 유사도 검색\n",
        "word_input = input(\"Enter a word to find similar words: \")\n",
        "similar_words = model.get_similar_words(word_input, word_to_index, index_to_word)\n",
        "print(\"Similar words:\", similar_words)\n"
      ]
    }
  ]
}