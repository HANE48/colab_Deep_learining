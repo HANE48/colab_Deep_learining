{
  "nbformat": 4,
  "nbformat_minor": 0,
  "metadata": {
    "colab": {
      "provenance": [],
      "authorship_tag": "ABX9TyNKrtLFg/0+ej2HhN7yBU8c",
      "include_colab_link": true
    },
    "kernelspec": {
      "name": "python3",
      "display_name": "Python 3"
    },
    "language_info": {
      "name": "python"
    }
  },
  "cells": [
    {
      "cell_type": "markdown",
      "metadata": {
        "id": "view-in-github",
        "colab_type": "text"
      },
      "source": [
        "<a href=\"https://colab.research.google.com/github/HANE48/colab_Deep_learining/blob/main/CBOW_Word2Vec.ipynb\" target=\"_parent\"><img src=\"https://colab.research.google.com/assets/colab-badge.svg\" alt=\"Open In Colab\"/></a>"
      ]
    },
    {
      "cell_type": "code",
      "execution_count": 4,
      "metadata": {
        "colab": {
          "base_uri": "https://localhost:8080/"
        },
        "id": "rAmsYpbcpBjF",
        "outputId": "5bcaa431-84ad-4d52-fb43-7cbb40703d83"
      },
      "outputs": [
        {
          "output_type": "stream",
          "name": "stdout",
          "text": [
            "Epoch 10, Loss: 10.396349157818857\n",
            "Epoch 20, Loss: 10.395911270354915\n",
            "Epoch 30, Loss: 10.395447294101121\n",
            "Epoch 40, Loss: 10.394947278991904\n",
            "Epoch 50, Loss: 10.394400326663707\n",
            "Epoch 60, Loss: 10.393794288443699\n",
            "Epoch 70, Loss: 10.393115425325334\n",
            "Epoch 80, Loss: 10.392348019376048\n",
            "Epoch 90, Loss: 10.39147392453327\n",
            "Epoch 100, Loss: 10.39047204290058\n"
          ]
        }
      ],
      "source": [
        "import numpy as np\n",
        "\n",
        "def softmax(x):\n",
        "    e_x = np.exp(x - np.max(x))\n",
        "    return e_x / e_x.sum(axis=0)\n",
        "\n",
        "class CBOW:\n",
        "    def __init__(self, vocab_size, embedding_dim):\n",
        "        self.W1 = np.random.randn(embedding_dim, vocab_size) * 0.01\n",
        "        self.W2 = np.random.randn(vocab_size, embedding_dim) * 0.01\n",
        "        self.vocab_size = vocab_size\n",
        "        self.embedding_dim = embedding_dim\n",
        "\n",
        "    def forward(self, x):\n",
        "        h = np.dot(self.W1, x)\n",
        "        u = np.dot(self.W2, h)\n",
        "        y_pred = softmax(u)\n",
        "        return y_pred, h\n",
        "\n",
        "    def backward(self, x, y_true, h, y_pred, learning_rate):\n",
        "        dl_du = y_pred - y_true\n",
        "        dl_dw2 = np.outer(dl_du, h)\n",
        "        dl_dh = np.dot(self.W2.T, dl_du)\n",
        "        dl_dw1 = np.outer(dl_dh, x)\n",
        "\n",
        "        self.W1 -= learning_rate * dl_dw1\n",
        "        self.W2 -= learning_rate * dl_dw2\n",
        "\n",
        "    def train(self, data, word_to_index, context_size, epochs, learning_rate):\n",
        "        for epoch in range(epochs):\n",
        "            loss = 0\n",
        "            for context, target in data:\n",
        "                x = np.mean([self.word_to_one_hot(word_to_index[word]) for word in context], axis=0)\n",
        "                y_true = self.word_to_one_hot(word_to_index[target])\n",
        "                y_pred, h = self.forward(x)\n",
        "                self.backward(x, y_true, h, y_pred, learning_rate)\n",
        "                loss -= np.log(y_pred[word_to_index[target]])\n",
        "            if (epoch + 1) % 10 == 0:\n",
        "                print(f\"Epoch {epoch + 1}, Loss: {loss}\")\n",
        "\n",
        "    def word_to_one_hot(self, word_idx):\n",
        "        x = np.zeros(self.vocab_size)\n",
        "        x[word_idx] = 1\n",
        "        return x\n",
        "\n",
        "# 코퍼스와 사전 처리\n",
        "corpus = [\"apple banana apple\", \"banana orange fruit\", \"orange banana apple\", \"dog cat animal\", \"cat monkey animal\"]\n",
        "words = set(\" \".join(corpus).split())\n",
        "word_to_index = {word: i for i, word in enumerate(words)}\n",
        "\n",
        "# 모델 초기화 및 학습\n",
        "vocab_size = len(word_to_index)\n",
        "embedding_dim = 10\n",
        "model = CBOW(vocab_size, embedding_dim)\n",
        "data = [([\"banana\", \"apple\"], \"apple\"), ([\"banana\", \"orange\"], \"fruit\"), ([\"orange\", \"apple\"], \"banana\"), ([\"dog\", \"animal\"], \"cat\"), ([\"cat\", \"animal\"], \"monkey\")]\n",
        "model.train(data, word_to_index, context_size=2, epochs=100, learning_rate=0.01)\n"
      ]
    }
  ]
}